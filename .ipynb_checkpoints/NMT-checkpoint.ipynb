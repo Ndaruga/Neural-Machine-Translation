{
 "cells": [
  {
   "cell_type": "code",
   "execution_count": 1,
   "id": "a487c830",
   "metadata": {},
   "outputs": [
    {
     "name": "stdout",
     "output_type": "stream",
     "text": [
      "Without GPU:  0.5068672000000021\n",
      "with GPU:  0.607998699999996\n"
     ]
    }
   ],
   "source": [
    "from numba import jit, cuda\n",
    "import numpy as np\n",
    "from timeit import default_timer as timer\n",
    "\n",
    "def func(a):\n",
    "    for i in range(1000000):\n",
    "        a[i]+=1\n",
    "\n",
    "@jit(target_backend='cuda')\n",
    "def func2(a):\n",
    "    for i in range(1000000):\n",
    "        a[i]+=1\n",
    "\n",
    "if __name__==\"__main__\":\n",
    "    n=1000000\n",
    "    a=np.ones(n, dtype=np.float64)\n",
    "    start=timer()\n",
    "    func(a)\n",
    "    print(\"Without GPU: \", timer()-start)\n",
    "    \n",
    "    start=timer()\n",
    "    func2(a)\n",
    "    print(\"with GPU: \", timer()-start)"
   ]
  },
  {
   "cell_type": "code",
   "execution_count": null,
   "id": "e0028bee",
   "metadata": {},
   "outputs": [],
   "source": [
    "%%capture\n",
    "%pip install --upgrade sacrebleu sentencepiece\n",
    "\n",
    "# Standard library imports\n",
    "import json\n",
    "import math\n",
    "import random\n",
    "\n",
    "# Third party imports\n",
    "import matplotlib.pyplot as plt\n",
    "import numpy as np\n",
    "import sacrebleu\n",
    "import sentencepiece\n",
    "import torch\n",
    "import torch.nn as nn\n",
    "import torch.nn.functional as F\n",
    "import torchtext\n",
    "import tqdm.notebook"
   ]
  },
  {
   "cell_type": "markdown",
   "id": "60aba15d",
   "metadata": {},
   "source": [
    "#### Check if we have a GPU"
   ]
  },
  {
   "cell_type": "code",
   "execution_count": null,
   "id": "d0235048",
   "metadata": {},
   "outputs": [],
   "source": [
    "assert torch.cuda.is_available()\n",
    "device = torch.device(\"cuda\")\n",
    "print(\"Using device:\", device)"
   ]
  },
  {
   "cell_type": "code",
   "execution_count": null,
   "id": "a451c90a",
   "metadata": {},
   "outputs": [],
   "source": [
    "torch.cuda.is_available()"
   ]
  },
  {
   "cell_type": "markdown",
   "id": "e248fa0c",
   "metadata": {},
   "source": [
    "### Data"
   ]
  },
  {
   "cell_type": "code",
   "execution_count": null,
   "id": "81fb2aca",
   "metadata": {},
   "outputs": [],
   "source": [
    "extensions = [\".de\", \".en\"]\n",
    "source_field = torchtext.legacy.data.Field(tokenize=lambda x: x)\n",
    "target_field = torchtext.legacy.data.Field(tokenize=lambda x: x)\n",
    "training_data, validation_data, test_data = torchtext.legacy.datasets.Multi30k.splits(\n",
    "    extensions, [source_field, target_field], root=\".\")"
   ]
  },
  {
   "cell_type": "code",
   "execution_count": null,
   "id": "b9d029b6",
   "metadata": {},
   "outputs": [],
   "source": [
    "print(\"Number of training examples:\", len(training_data))\n",
    "print(\"Number of validation examples:\", len(validation_data))\n",
    "print(\"Number of test examples:\", len(test_data))\n",
    "print()\n",
    "\n",
    "for example in training_data[:10]:\n",
    "    print(example.src)\n",
    "    print(example.trg)\n",
    "    print()"
   ]
  },
  {
   "cell_type": "code",
   "execution_count": null,
   "id": "49e96973",
   "metadata": {},
   "outputs": [],
   "source": []
  }
 ],
 "metadata": {
  "kernelspec": {
   "display_name": "Python 3 (ipykernel)",
   "language": "python",
   "name": "python3"
  },
  "language_info": {
   "codemirror_mode": {
    "name": "ipython",
    "version": 3
   },
   "file_extension": ".py",
   "mimetype": "text/x-python",
   "name": "python",
   "nbconvert_exporter": "python",
   "pygments_lexer": "ipython3",
   "version": "3.9.13"
  },
  "vscode": {
   "interpreter": {
    "hash": "04b2e48da8715d0e03ed003238e610aa18fc3abec3b418b1e66df75f2c0e936e"
   }
  }
 },
 "nbformat": 4,
 "nbformat_minor": 5
}
