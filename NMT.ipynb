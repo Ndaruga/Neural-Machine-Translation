{
 "cells": [
  {
   "cell_type": "code",
   "execution_count": null,
   "id": "a487c830",
   "metadata": {},
   "outputs": [],
   "source": []
  },
  {
   "cell_type": "code",
   "execution_count": 2,
   "id": "e0028bee",
   "metadata": {},
   "outputs": [
    {
     "ename": "ModuleNotFoundError",
     "evalue": "No module named 'torchtext'",
     "output_type": "error",
     "traceback": [
      "\u001b[1;31m---------------------------------------------------------------------------\u001b[0m",
      "\u001b[1;31mModuleNotFoundError\u001b[0m                       Traceback (most recent call last)",
      "\u001b[1;32m~\\AppData\\Local\\Temp\\ipykernel_11272\\3757825379.py\u001b[0m in \u001b[0;36m<module>\u001b[1;34m\u001b[0m\n\u001b[0;32m     15\u001b[0m \u001b[1;32mimport\u001b[0m \u001b[0mtorch\u001b[0m\u001b[1;33m.\u001b[0m\u001b[0mnn\u001b[0m\u001b[1;33m.\u001b[0m\u001b[0mfunctional\u001b[0m \u001b[1;32mas\u001b[0m \u001b[0mF\u001b[0m\u001b[1;33m\u001b[0m\u001b[1;33m\u001b[0m\u001b[0m\n\u001b[0;32m     16\u001b[0m \u001b[0mget_ipython\u001b[0m\u001b[1;33m(\u001b[0m\u001b[1;33m)\u001b[0m\u001b[1;33m.\u001b[0m\u001b[0msystem\u001b[0m\u001b[1;33m(\u001b[0m\u001b[1;34m'pip install https://github.com/pytorch/text/archive/master.zip'\u001b[0m\u001b[1;33m)\u001b[0m\u001b[1;33m\u001b[0m\u001b[1;33m\u001b[0m\u001b[0m\n\u001b[1;32m---> 17\u001b[1;33m \u001b[1;32mimport\u001b[0m \u001b[0mtorchtext\u001b[0m\u001b[1;33m\u001b[0m\u001b[1;33m\u001b[0m\u001b[0m\n\u001b[0m\u001b[0;32m     18\u001b[0m \u001b[1;32mimport\u001b[0m \u001b[0mtqdm\u001b[0m\u001b[1;33m.\u001b[0m\u001b[0mnotebook\u001b[0m\u001b[1;33m\u001b[0m\u001b[1;33m\u001b[0m\u001b[0m\n",
      "\u001b[1;31mModuleNotFoundError\u001b[0m: No module named 'torchtext'"
     ]
    }
   ],
   "source": [
    "%%capture\n",
    "%pip install --upgrade sacrebleu sentencepiece\n",
    "\n",
    "# Standard library imports\n",
    "import json\n",
    "import math\n",
    "import random\n",
    "\n",
    "# Third party imports\n",
    "import matplotlib.pyplot as plt\n",
    "import numpy as np\n",
    "import sacrebleu\n",
    "import sentencepiece\n",
    "import torch\n",
    "import torch.nn as nn\n",
    "import torch.nn.functional as F\n",
    "!pip install https://github.com/pytorch/text/archive/master.zip\n",
    "import torchtext\n",
    "import tqdm.notebook"
   ]
  },
  {
   "cell_type": "markdown",
   "id": "60aba15d",
   "metadata": {},
   "source": [
    "#### Check if we have a GPU"
   ]
  },
  {
   "cell_type": "code",
   "execution_count": null,
   "id": "d0235048",
   "metadata": {},
   "outputs": [],
   "source": [
    "assert torch.cuda.is_available()\n",
    "device = torch.device(\"cuda\")\n",
    "print(\"Using device:\", device)"
   ]
  },
  {
   "cell_type": "markdown",
   "id": "e248fa0c",
   "metadata": {},
   "source": [
    "### Data"
   ]
  },
  {
   "cell_type": "code",
   "execution_count": null,
   "id": "81fb2aca",
   "metadata": {},
   "outputs": [],
   "source": [
    "extensions = [\".de\", \".en\"]\n",
    "source_field = torchtext.legacy.data.Field(tokenize=lambda x: x)\n",
    "target_field = torchtext.legacy.data.Field(tokenize=lambda x: x)\n",
    "training_data, validation_data, test_data = torchtext.legacy.datasets.Multi30k.splits(\n",
    "    extensions, [source_field, target_field], root=\".\")"
   ]
  },
  {
   "cell_type": "code",
   "execution_count": null,
   "id": "b9d029b6",
   "metadata": {},
   "outputs": [],
   "source": [
    "print(\"Number of training examples:\", len(training_data))\n",
    "print(\"Number of validation examples:\", len(validation_data))\n",
    "print(\"Number of test examples:\", len(test_data))\n",
    "print()\n",
    "\n",
    "for example in training_data[:10]:\n",
    "    print(example.src)\n",
    "    print(example.trg)\n",
    "    print()"
   ]
  }
 ],
 "metadata": {
  "kernelspec": {
   "display_name": "Python 3 (ipykernel)",
   "language": "python",
   "name": "python3"
  },
  "language_info": {
   "codemirror_mode": {
    "name": "ipython",
    "version": 3
   },
   "file_extension": ".py",
   "mimetype": "text/x-python",
   "name": "python",
   "nbconvert_exporter": "python",
   "pygments_lexer": "ipython3",
   "version": "3.9.13"
  },
  "vscode": {
   "interpreter": {
    "hash": "04b2e48da8715d0e03ed003238e610aa18fc3abec3b418b1e66df75f2c0e936e"
   }
  }
 },
 "nbformat": 4,
 "nbformat_minor": 5
}
