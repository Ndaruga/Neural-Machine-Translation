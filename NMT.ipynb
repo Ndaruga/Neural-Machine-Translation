{
 "cells": [
  {
   "cell_type": "code",
   "execution_count": null,
   "id": "a487c830",
   "metadata": {},
   "outputs": [],
   "source": []
  },
  {
   "cell_type": "code",
   "execution_count": 1,
   "id": "e0028bee",
   "metadata": {},
   "outputs": [],
   "source": [
    "%%capture\n",
    "%pip install --upgrade sacrebleu sentencepiece\n",
    "\n",
    "# Standard library imports\n",
    "import json\n",
    "import math\n",
    "import random\n",
    "\n",
    "# Third party imports\n",
    "import matplotlib.pyplot as plt\n",
    "import numpy as np\n",
    "import sacrebleu\n",
    "import sentencepiece\n",
    "import torch\n",
    "import torch.nn as nn\n",
    "import torch.nn.functional as F\n",
    "import torchtext\n",
    "import tqdm.notebook"
   ]
  },
  {
   "cell_type": "markdown",
   "id": "60aba15d",
   "metadata": {},
   "source": [
    "#### Check if we have a GPU"
   ]
  },
  {
   "cell_type": "code",
   "execution_count": 2,
   "id": "d0235048",
   "metadata": {},
   "outputs": [
    {
     "name": "stdout",
     "output_type": "stream",
     "text": [
      "Using device: cuda\n"
     ]
    }
   ],
   "source": [
    "torch.cuda.is_available()\n",
    "device = torch.device(\"cuda\")\n",
    "print(\"Using device:\", device)"
   ]
  },
  {
   "cell_type": "markdown",
   "id": "e248fa0c",
   "metadata": {},
   "source": [
    "### Data"
   ]
  },
  {
   "cell_type": "code",
   "execution_count": 3,
   "id": "81fb2aca",
   "metadata": {},
   "outputs": [
    {
     "name": "stdout",
     "output_type": "stream",
     "text": [
      "downloading training.tar.gz\n"
     ]
    },
    {
     "name": "stderr",
     "output_type": "stream",
     "text": [
      ".\\multi30k\\training.tar.gz: 100%|██████████████████████████████████████████████████| 1.21M/1.21M [00:02<00:00, 422kB/s]\n"
     ]
    },
    {
     "name": "stdout",
     "output_type": "stream",
     "text": [
      "downloading validation.tar.gz\n"
     ]
    },
    {
     "name": "stderr",
     "output_type": "stream",
     "text": [
      ".\\multi30k\\validation.tar.gz: 100%|████████████████████████████████████████████████| 46.3k/46.3k [00:00<00:00, 126kB/s]\n"
     ]
    },
    {
     "name": "stdout",
     "output_type": "stream",
     "text": [
      "downloading mmt_task1_test2016.tar.gz\n"
     ]
    },
    {
     "name": "stderr",
     "output_type": "stream",
     "text": [
      ".\\multi30k\\mmt_task1_test2016.tar.gz: 100%|████████████████████████████████████████| 66.2k/66.2k [00:00<00:00, 121kB/s]\n"
     ]
    }
   ],
   "source": [
    "extensions = [\".de\", \".en\"]\n",
    "source_field = torchtext.data.Field(tokenize=lambda x: x)\n",
    "target_field = torchtext.data.Field(tokenize=lambda x: x)\n",
    "training_data, validation_data, test_data = torchtext.datasets.Multi30k.splits(\n",
    "    extensions, [source_field, target_field], root=\".\")"
   ]
  },
  {
   "cell_type": "code",
   "execution_count": 4,
   "id": "b9d029b6",
   "metadata": {},
   "outputs": [
    {
     "name": "stdout",
     "output_type": "stream",
     "text": [
      "Number of training examples: 29000\n",
      "Number of validation examples: 1014\n",
      "Number of test examples: 1000\n",
      "\n",
      "Zwei junge weiße Männer sind im Freien in der Nähe vieler Büsche.\n",
      "Two young, White males are outside near many bushes.\n",
      "\n",
      "Mehrere Männer mit Schutzhelmen bedienen ein Antriebsradsystem.\n",
      "Several men in hard hats are operating a giant pulley system.\n",
      "\n",
      "Ein kleines Mädchen klettert in ein Spielhaus aus Holz.\n",
      "A little girl climbing into a wooden playhouse.\n",
      "\n",
      "Ein Mann in einem blauen Hemd steht auf einer Leiter und putzt ein Fenster.\n",
      "A man in a blue shirt is standing on a ladder cleaning a window.\n",
      "\n",
      "Zwei Männer stehen am Herd und bereiten Essen zu.\n",
      "Two men are at the stove preparing food.\n",
      "\n",
      "Ein Mann in grün hält eine Gitarre, während der andere Mann sein Hemd ansieht.\n",
      "A man in green holds a guitar while the other man observes his shirt.\n",
      "\n",
      "Ein Mann lächelt einen ausgestopften Löwen an.\n",
      "A man is smiling at a stuffed lion\n",
      "\n",
      "Ein schickes Mädchen spricht mit dem Handy während sie langsam die Straße entlangschwebt.\n",
      "A trendy girl talking on her cellphone while gliding slowly down the street.\n",
      "\n",
      "Eine Frau mit einer großen Geldbörse geht an einem Tor vorbei.\n",
      "A woman with a large purse is walking by a gate.\n",
      "\n",
      "Jungen tanzen mitten in der Nacht auf Pfosten.\n",
      "Boys dancing on poles in the middle of the night.\n",
      "\n"
     ]
    }
   ],
   "source": [
    "print(\"Number of training examples:\", len(training_data))\n",
    "print(\"Number of validation examples:\", len(validation_data))\n",
    "print(\"Number of test examples:\", len(test_data))\n",
    "print()\n",
    "\n",
    "for example in training_data[:10]:\n",
    "    print(example.src)\n",
    "    print(example.trg)\n",
    "    print()"
   ]
  },
  {
   "cell_type": "code",
   "execution_count": null,
   "id": "e99e89d7",
   "metadata": {},
   "outputs": [],
   "source": []
  }
 ],
 "metadata": {
  "kernelspec": {
   "display_name": "Python 3 (ipykernel)",
   "language": "python",
   "name": "python3"
  },
  "language_info": {
   "codemirror_mode": {
    "name": "ipython",
    "version": 3
   },
   "file_extension": ".py",
   "mimetype": "text/x-python",
   "name": "python",
   "nbconvert_exporter": "python",
   "pygments_lexer": "ipython3",
   "version": "3.9.13"
  },
  "vscode": {
   "interpreter": {
    "hash": "04b2e48da8715d0e03ed003238e610aa18fc3abec3b418b1e66df75f2c0e936e"
   }
  }
 },
 "nbformat": 4,
 "nbformat_minor": 5
}
